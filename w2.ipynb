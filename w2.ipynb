{
 "cells": [
  {
   "cell_type": "markdown",
   "metadata": {},
   "source": [
    "<meta name=\"viewport\" content=\"width=device-width, initial-scale=1\">\n",
    "<p style=\"font-size:9px;\">Version: July 8, 2023; updated Sept 03, 2023 [&copy; 2023 Benoît. Permission granted for AY 2023 only].</p>\n",
    "<hr />"
   ]
  },
  {
   "cell_type": "code",
   "execution_count": 4,
   "metadata": {},
   "outputs": [
    {
     "data": {
      "text/html": [
       "<script src=\"js/showNotes.js\"></script>\n"
      ],
      "text/plain": [
       "<IPython.core.display.HTML object>"
      ]
     },
     "metadata": {},
     "output_type": "display_data"
    }
   ],
   "source": [
    "%%html\n",
    "<script src=\"js/showNotes.js\"></script>"
   ]
  },
  {
   "cell_type": "markdown",
   "metadata": {},
   "source": [
    "<img src=\"images/ischool-banner.png\" />\n",
    "<p>&nbsp;</p>\n",
    "<br />\n",
    "<div style=\"height: 100px;color:#3B7EA1; font-size:24px; vertical-align:top; text-align:left;\">\n",
    "    Computing for Data Science\n",
    "    <img style=\"width:20%; vertical-align:top; float: left; padding-right: 20px; display: block; margin-left: 0; margin-right: auto;\" \n",
    "         src=\"images/ucb_logo.png\"/>    \n",
    "</div>"
   ]
  },
  {
   "cell_type": "markdown",
   "metadata": {},
   "source": [
    "<hr />\n",
    "<h1 style=\"font-size:36; color: #003262;\">Current (F23) Weekly Syllabus Topics</h1>\n",
    "<table width=\"100%;\">\n",
    "<tr>\n",
    "<td style=\"text-align:left; vertical-align:top;\">\n",
    "<ol>\n",
    "    <li>\n",
    "    <ul>\n",
    "        <li>Computer Architecture Basics; \n",
    "        Bash, Git, GitHub;</li>\n",
    "        <li>Command Line;</li>\n",
    "        <li>Manipulating Files &amp; Directories;\n",
    "        VIM;\n",
    "        Command Line intro;</li>\n",
    "    </ul>\n",
    "</li>\n",
    "<li>\n",
    "    <ul style=\"background-color:#FDB515;\">\n",
    "    <li>Programming Lang Orientation: \n",
    "    <li>jupyter; python and command line;\n",
    "    objects &amp; types;\n",
    "    <li>variables (numbers and strings), formatting strings;</li>\n",
    "    <li>control while loops</li>\n",
    "    </ul>\n",
    "</li>\n",
    "<li>\n",
    "    <ul>\n",
    "        <li>Sequences</li>\n",
    "        <li>Lists, Tuples &amp; Mutability</li>\n",
    "        <li>Ranges</li>\n",
    "        <li>Dictionaries, Nested Lists &amp; dictionaries</li>\n",
    "    </ul>\n",
    "</li>\n",
    "</ol>\n",
    "</td>\n",
    "<td style=\"text-align:left; vertical-align:top;\">\n",
    "<ol start=\"4\">\n",
    "<li>\n",
    "    <ul>\n",
    "        <li>For Loops\n",
    "        <li>Exits\n",
    "        <li>Algorithsm: searching [exhaustive, bisection, Heron&rsquo;s</li>\n",
    "        <li>Comprehensions</li>\n",
    "    </ul>\n",
    "</li>\n",
    "<li>\n",
    "    <ul>\n",
    "        <li>Functions</li>\n",
    "        <li>Calling, Nesting</li>\n",
    "        <li>Namespaces, Global and Local Vars</li>\n",
    "        <li>Recursion; nested dictionaries &amp; recursion</li>\n",
    "        <li>Parameters</li>\n",
    "        <li>Exceptions</li>\n",
    "        <li>Lambdas</li>\n",
    "    </ul>\n",
    "</li>\n",
    "<li>\n",
    "    <ul>\n",
    "        <li>Complexity\n",
    "        <li>Measuring time and Steps</li>\n",
    "        <li>Big &Theta;</li>\n",
    "        <li>Searching and Subsequences\n",
    "        <li>Modules &amp; Packages</li>\n",
    "    </ul>\n",
    "</li>\n",
    "</ol>\n",
    "</td>\n",
    "    </tr>\n",
    "<table>\n",
    "<table width=\"100%\">\n",
    "    <tr>\n",
    "<td style=\"text-align:left; vertical-align:top;\">\n",
    "<ol start=\"7\">\n",
    "<li>\n",
    "    <ul>\n",
    "        <li>Classes</li>\n",
    "        <li>Attributes, Binding</li>\n",
    "        <li>Initializing and Control</li>\n",
    "        <li>&UnderBar;&UnderBar;str&UnderBar;&UnderBar; and &UnderBar;&UnderBar;repr&UnderBar;&UnderBar;\n",
    "        </li>\n",
    "    </ul>\n",
    "</li>\n",
    "<li>\n",
    "    <ul>\n",
    "        <li>Object-Oriented Programming</li>\n",
    "        <li>Inheritance</li>\n",
    "        <li>Polymorphism</li>\n",
    "        <li>Magic Methods</li>\n",
    "    </ul>\n",
    "</li>\n",
    "<li>\n",
    "    <ul>\n",
    "    <li>PyData Ecosystem and Numpy</li>\n",
    "    <li>Boolean selection and types</li>\n",
    "    <li>Vectorization &amp; Multidimensional Arrays</li>\n",
    "    <li>Slicing and combining</li>\n",
    "    <li>Linear model in matrix form, Numpy</li>\n",
    "    </ul>\n",
    "</li>\n",
    "</ol>\n",
    "</td>\n",
    "<td style=\"text-align:left; vertical-align:top;\">\n",
    "<ol start=\"10\">\n",
    "<li>\n",
    "    <ul>\n",
    "        <li>Pandas &amp; Data Analysis</li>\n",
    "        <li>Series and Data Frames</li>\n",
    "        <li>Bracket index, log &amp; iloc</li>\n",
    "        <li>Functions and DataFrames</li>\n",
    "        <li>Sorting</li>\n",
    "    </ul>\n",
    "</li>\n",
    "<li>\n",
    "    <ul>\n",
    "        <li>Datasets and EDA</li>\n",
    "        <li>Fixing Data Issues (Cleansing)</li>\n",
    "        <li>Answering Questions</li>\n",
    "    </ul>\n",
    "</li>\n",
    "<li>\n",
    "    <ul>\n",
    "        <li>Plotting &amp; Visualization</li>\n",
    "        <li>Libraries (Matplotlib, Seaborn, etc.)</li>\n",
    "        <li>Plot features</li>\n",
    "    </ul>\n",
    "</li>\n",
    "</ol>\n",
    "</td>\n",
    "</tr>\n",
    "</table>\n",
    "<table width=\"100%\">\n",
    "<tr>\n",
    "<td style=\"text-align:left; vertical-align:top;\">\n",
    "<ol start=\"13\">\n",
    "    <li>\n",
    "    <ul>\n",
    "        <li>Pandas Aggregation &amp; Group Operations</li>\n",
    "        <li>Series.groupby</li>\n",
    "        <li>DataFrame.groupby</li>\n",
    "        <li>Aggregation</li>\n",
    "        <li>Pivot Tables &amp; Crosstabs</li>\n",
    "    </ul>\n",
    "</li>\n",
    "<li>\n",
    "    <ul>\n",
    "        <li>Presentations (so no time to cover...\n",
    "        <li>Texts, unicode, decoding errors, regex, time series, etc.)</li>\n",
    "    </ul>\n",
    "</li>\n",
    "</ol>\n",
    "</td>\n",
    "</tr>\n",
    "</table>"
   ]
  },
  {
   "cell_type": "markdown",
   "metadata": {},
   "source": [
    "<hr />\n",
    "<h1 style=\"font-size:36; color: #003262;\">Week 2 of Current (F23) Syllabus Topics<br /></h1>\n",
    "\t<ul>\n",
    "\t<li>Programming Lang Orientation: \n",
    "\t<li>jupyter; python and command line;\n",
    "\tobjects &amp; types;\n",
    "\t<li>variables (numbers and strings), formatting strings;</li>\n",
    "\t<li>control while loops</li>\n",
    "    <li>Background Notes [a place for more detailed explanations, further readings]\n",
    "\t</ul>\n",
    "</li>"
   ]
  },
  {
   "cell_type": "markdown",
   "metadata": {},
   "source": [
    "<h2 style=\"font-size: 1.5vw; color: #003262;\"><img src=\"images/IntroIcon.png\" style=\"height:50px;float: left; padding-right:10px;\">Programming Language Orientation</h2>"
   ]
  },
  {
   "cell_type": "markdown",
   "metadata": {},
   "source": [
    "<p style=\"font-size: 1.25vw; line-height: 2vw; color: #3B7EA1;\">\n",
    "    <p>These notebooks follow the current course syllabus, mirroring the timing and presentation of themes.  Our in-class time is spent discussing/demo-ing the topics and suggest some of their application. \n",
    "    <p style=\"color: #3B7EA1;\">\n",
    "Preparation</p>\n",
    "    Previous to this lesson, you should have completed the training on the Operating System and how python works with it and how jupter notebook accesses it.\n",
    "    <br />\n",
    "    Having already completed the asynch video lessons and hands-on practice, the live session would review some parts in greater depth, building from the basics to more advanced applications.  Alternating weeks will have <i>breakout rooms</i>, where students work in small groups on a problem set.</p>\n",
    "<p style=\"font-size: 1.25vw; line-height: 1.6vw;\">You&rsquo;re encouraged to start your own section discussion group, work with TAs and tutor, instructors.</p>"
   ]
  },
  {
   "cell_type": "markdown",
   "metadata": {},
   "source": [
    "<hr />\n",
    "<h2 style=\"font-size: 1.5vw; color: #003262;\">2.  Objects and Data Types</h2>"
   ]
  },
  {
   "cell_type": "markdown",
   "metadata": {},
   "source": [
    "<p style=\"font-size: 18px; line-height: 25px; font-family:serif;\">A <u>variable</u> is just a symbol name to contain a value, e.g., <code>x = 5</code>; the left-side is the declaration (x =) and the right is the instantiation with a value (5).  <code>x</code> is just a placeholder; python (and other languages) use placeholders extensively; we'll see this exploited in lambda and map functions.</p>\n",
    "<p style=\"font-size: 18px; line-height: 25px; font-family:serif;\">Variable names can &ldquo;hold&rdquo; many different types of data: bytes, characters, Strings, integers, and other containers (list, set, dictionary, tuple, enumerations), which themselves hold collections of other data.</p>\n",
    "<p style=\"font-size: 18px; line-height: 25px; font-family:serif;\">For more about the concept of <a href=\"#objects\">Objects</a> in a hierarchy - especially in an object-oriented programming language, like Python, see the below optional grpahic. Notice the <u>root</u> on the top - the Object - and then the branches growing from that root.  Notice on the branches the many <u>nodes</u>.  And note the commonalities in some of the nodes, the words surrounded by &under;&under; - double-underscores (called <u>dunders</u>; part of the <u>magic methods</u> we&rsquo;ll encounter shortly).  From the chart take away the notion of <i>inheritance</i> [the parent-child relationship of nodes] and <i>encapsulation</i> [the way variables and functions are self-contained in the node and later how they&rsquo;ll be accessed using <u>get/set</u> methods.]\n",
    "    </p>"
   ]
  },
  {
   "cell_type": "markdown",
   "metadata": {},
   "source": [
    "<hr />\n",
    "<div>\n",
    "    <p>\n",
    "        <img src=\"images/DiscussIcon.png\" style=\"float:left; padding:10px; width:50px;\"/>\n",
    "        <span style=\"color: #3B7EA1;font-size:18px;\">Demo &amp; Discussion</span>\n",
    "    </p>\n",
    "    <p style=\"color:black; font-size: 14px;\">Question: What are the basic or primitive data types and when might you use them?\n",
    "    </p>\n",
    "</div>"
   ]
  },
  {
   "cell_type": "code",
   "execution_count": 41,
   "metadata": {},
   "outputs": [
    {
     "data": {
      "text/html": [
       "<button style=\"background-color:rgb(129,156,19);color:white;\" onclick=\"loadDoc('answer1types.txt', '1')\">Show Answer</button>\n",
       "<p id=\"showNotes1\"></p>\n"
      ],
      "text/plain": [
       "<IPython.core.display.HTML object>"
      ]
     },
     "metadata": {},
     "output_type": "display_data"
    }
   ],
   "source": [
    "%%html\n",
    "<button style=\"background-color:rgb(129,156,19);color:white;\" onclick=\"loadDoc('answer1types.txt', '1')\">Show Answer</button>\n",
    "<p id=\"showNotes1\"></p>"
   ]
  },
  {
   "cell_type": "markdown",
   "metadata": {},
   "source": [
    "<div style=\"background-color:beige;padding:10px;\">\n",
    "    <h3 style='color:#3B7EA1;'>Primitives</h3>\n",
    "<p style=\"font-size: 18px; line-height: 22px; font-family:serif;\">\n",
    "    These values are called <span style='color:#3B7EA1;'>primitives</span> because all other variables and data types evolve from them.  Because Python views all input as a value, it's easy to <u style='color:#3B7EA1;'><b>cast</b></u> a variable from one type to another.  For example, x = '5' is <u>not</u> a number [the ' ' show that].  We can convert (cast) the variable x from String to int using the <b>function</b> <code>int()</code> or an integer into a characters <code>str()</code>.</p>\n",
    "<p style=\"font-size: 18px; line-height: 22px; font-family:serif;\">The rule of thumb is to store data as a number only if you're planning to do some calculations on that value, else save as a string.  We can confirm the changes in the data type using <code>type()</code> command.  And we can see how python finds variables using <code>id()</code>.\n",
    "    <hr />\n",
    "<p style=\"font-size: 18px; line-height: 22px; font-family:serif;\">\n",
    "    Given these commands <code>type()</code>, <code>id()</code>, \n",
    "    <code>str()</code>, <code>int()</code>, <code>ord()</code>, and <code>bin()</code>, how can you manipulate the variables <code>i = 5</code> and <code>c = \"a\"</code>?</p>\n",
    "    <p style=\"font-size: 18px; line-height: 22px; font-family:serif;\">\n",
    "        What is the value of <code>if i:</code>?</p>\n",
    "</div>"
   ]
  },
  {
   "cell_type": "markdown",
   "metadata": {},
   "source": [
    "<hr />\n",
    "    <p style=\"color:black; font-size: 14px;\">After introducing the main points, when possible we&rsquo;ll lead a group hands-on demo applying the main point of the section of the lesson to see the results, as well as any errors we might encounter.</p>"
   ]
  },
  {
   "cell_type": "code",
   "execution_count": 42,
   "metadata": {},
   "outputs": [
    {
     "name": "stdout",
     "output_type": "stream",
     "text": [
      "Variable name: i, value 5, Type: <class 'int'> and ID: 4357154112.\n"
     ]
    }
   ],
   "source": [
    "\"\"\" In-class type here \"\"\"\n",
    "i = 5\n",
    "c = \"a\"\n",
    "\n",
    "\"\"\" example: \"\"\"\n",
    "print(f\"Variable name: i, value {i}, Type: {type(i)} and ID: {id(i)}.\")"
   ]
  },
  {
   "cell_type": "markdown",
   "metadata": {},
   "source": [
    "<img src=\"images/hands-on.png\" style=\"float:left; padding:10px; width:100px;\"/>\n",
    "    <ol>\n",
    "    <li>Using the print-f commands, convert an int to a float with 2 decimal places</li>\n",
    "    <li>Convert an character to its numeric value</li>\n",
    "    <li>How to show the bin equivalent of the string \"a\"</li>\n",
    "    <li>Using the print-f commands, show the <code>type</code> and <code>id</code> of the variable <code>j = 5</code></li>\n",
    "    <li>Copy the value of j into a new variable, called <code>x</code> and show both their types and IDs.</li>\n",
    "    </ol>"
   ]
  },
  {
   "cell_type": "code",
   "execution_count": 22,
   "metadata": {},
   "outputs": [],
   "source": [
    "# insert your answers here."
   ]
  },
  {
   "cell_type": "code",
   "execution_count": 43,
   "metadata": {},
   "outputs": [
    {
     "data": {
      "text/html": [
       "<button style=\"background-color:rgb(129,156,19);color:white;\" onclick=\"loadDoc('answers/answers2_2.txt', '2')\">Show Answer</button>\n",
       "<p id=\"showNotes2\"></p>\n"
      ],
      "text/plain": [
       "<IPython.core.display.HTML object>"
      ]
     },
     "metadata": {},
     "output_type": "display_data"
    }
   ],
   "source": [
    "%%html\n",
    "<button style=\"background-color:rgb(129,156,19);color:white;\" onclick=\"loadDoc('answers/answers2_2.txt', '2')\">Show Answer</button>\n",
    "<p id=\"showNotes2\"></p>"
   ]
  },
  {
   "cell_type": "markdown",
   "metadata": {},
   "source": [
    "<p><img src=\"images/DiscussIcon.png\" style=\"float:left; padding:5px; width:50px;\"><i>After introducing the main points, when possible we&rsquo;ll lead a group hands-on demo applying the main point of the section of the lesson to see the results, as well as any errors we might encounter.</i></p>\n"
   ]
  },
  {
   "cell_type": "markdown",
   "metadata": {},
   "source": [
    "<hr />\n",
    "<h1 style=\"font-size: 1.5vw; color: #003262;\">2.  Control of Flow</h1>\n",
    "<hr />\n",
    "<h2 style=\"font-size: 1.5vw; color: #003262;\">To control how a program acts we have a number of basic commands to change when and why parts of the code are executed when they are</h2>\n",
    "<p style=\"font-size: 1.25vw; line-height: 2vw;\">A script is read by the interpreter or the compiler starting at the first line and then straight down to the final line.  [Of course we will adjust this by using functions and later objects &amp; methods but for the moment ....]. Each line is read and executed.  If a variable is declared and instantiated later in the code, python will \"throw an exception\" [an error].  Here we introduce some fundamental control-of-flow commands that stop the running, or flow, of the script in order to direct it based on our needs.</p>\n",
    "<p><img src=\"images/QuestionIcon.png\" style=\"float:left; padding:5px; width:50px;\">What are the <u>control-of-flow</u> statements we've encountered?  Notice that we have lots of options to control the scripts and they are create lots of opportunities for achieving the same end, with different degrees of efficiency.</p>"
   ]
  },
  {
   "cell_type": "code",
   "execution_count": 44,
   "metadata": {},
   "outputs": [
    {
     "data": {
      "text/html": [
       "<button style=\"background-color:rgb(129,156,19);color:white;\" onclick=\"loadDoc('answers/week2answer2.txt', '3')\">Show Answer</button>\n",
       "<p id=\"showNotes3\"></p>\n"
      ],
      "text/plain": [
       "<IPython.core.display.HTML object>"
      ]
     },
     "metadata": {},
     "output_type": "display_data"
    }
   ],
   "source": [
    "%%html\n",
    "<button style=\"background-color:rgb(129,156,19);color:white;\" onclick=\"loadDoc('answers/week2answer2.txt', '3')\">Show Answer</button>\n",
    "<p id=\"showNotes3\"></p>"
   ]
  },
  {
   "cell_type": "markdown",
   "metadata": {},
   "source": [
    "<p>In this example we have the beginnings of a menu.  You want to improve it.  First read each line to be sure you understand the syntax and role each element plays ... </p>"
   ]
  },
  {
   "cell_type": "code",
   "execution_count": 34,
   "metadata": {},
   "outputs": [
    {
     "name": "stdout",
     "output_type": "stream",
     "text": [
      "--------------------------------------------------\n",
      "Welcome to Joe's Fish Market.  Please select from the following:\n",
      "\t1 = Order Fish\n",
      "\t2 = Order Lobsters and Crabs\n",
      "\t3 = Order sauces or salads\n",
      "\tq = end your order.\n",
      "Enter your choice: q\n",
      "\n",
      "Thanks!  You issued the command q.\n"
     ]
    }
   ],
   "source": [
    "companyName = \"Joe's Fish Market\"\n",
    "\n",
    "print(\"-\"*50)\n",
    "print(f\"Welcome to {companyName}.  Please select from the following:\")\n",
    "print(\"\\t1 = Order Fish\")\n",
    "print(\"\\t2 = Order Lobsters and Crabs\")\n",
    "print(\"\\t3 = Order sauces or salads\")\n",
    "print(\"\\tq = end your order.\")\n",
    "\n",
    "user_choice = str(input(\"Enter your choice: \"))\n",
    "\n",
    "print(f\"\\nThanks!  You issued the command {user_choice}.\")"
   ]
  },
  {
   "cell_type": "markdown",
   "metadata": {},
   "source": [
    "<hr />\n",
    "<p style=\"font-size: 1.25vw; line-height: 2vw;\">Now we want to restrict the end-user to certain options (1, 2, 3, q) as Strings ... else they get a reminder.</p>\n",
    "<p style=\"font-size: 1.25vw; line-height: 2vw;\">What to notice in this example:\n",
    "    <ol style=\"color: #003262;\">\n",
    "        <li>importing a library - there are many! For our course, we'll focus on the most common (numpy, pandas, matplotlib) and reference others in response to student questions.  The emoji library is included just for fun.</li>\n",
    "        <li>Notice that because we want string data that is non-contiguous (1, 2, 3, q) we're introducing something from week 2: the <b>list</b>.  [A list is similar to other languages' <i>array</i> object.]</li>\n",
    "        <li>On line 11 of code notice the use of the + sign to concatenate string data.</li>\n",
    "</ol>\n",
    "</p>"
   ]
  },
  {
   "cell_type": "code",
   "execution_count": null,
   "metadata": {},
   "outputs": [],
   "source": [
    "import emoji\n",
    "\n",
    "companyName = \"Joe's Fish Market\"\n",
    "\n",
    "print(\"-\"*50)\n",
    "print(f\"Welcome to {companyName}.  Please select from the following:\")\n",
    "print(\"\\t1 = Order Fish\")\n",
    "print(\"\\t2 = Order Lobsters and Crabs\")\n",
    "print(\"\\t3 = Order sauces or salads\")\n",
    "print(\"\\tq = end your order.\")\n",
    "\n",
    "user_choice = str(input(\"Enter your choice: \")).lower()\n",
    "\n",
    "if user_choice in ['1','2','3','q']:\n",
    "    print(f\"\\nThanks! You issued the command {user_choice} \" + emoji.emojize(':thumbs_up:'))\n",
    "else:\n",
    "    print(f\"\\nSorry, your option {user_choice} is unavailable. \")"
   ]
  },
  {
   "cell_type": "markdown",
   "metadata": {},
   "source": [
    "<p style=\"font-size: 1.25vw; line-height: 2vw;\">We saw the <code>if</code> statement used above to check the data.  now we'll build on this.</p>"
   ]
  },
  {
   "cell_type": "markdown",
   "metadata": {},
   "source": [
    "<hr />\n",
    "<div>\n",
    "<ol>\n",
    "<li>This example uses a <u>nested-if</u> statement, meaning <i>inside</i> an if statement exists another one!</li>\n",
    "<li>Note the use of <code>elif</code> and <code>else</code></li>\n",
    "</ol>\n",
    "    <p><img src=\"images/hands-on.png\" style=\"float:left; padding:10px; width:100px;\"/>\n",
    "        Rewrite this example using <b>match</b>.</p>\n",
    "    </div>"
   ]
  },
  {
   "cell_type": "code",
   "execution_count": 2,
   "metadata": {},
   "outputs": [],
   "source": [
    "# write your answer here ...\n"
   ]
  },
  {
   "cell_type": "markdown",
   "metadata": {},
   "source": [
    "<hr />\n",
    "<p>Click the \"Show Answer\" button to see the Fish Market's menu expressed using the <u>match</u> command, instead of the <u>if</u> approach.</p>"
   ]
  },
  {
   "cell_type": "code",
   "execution_count": 3,
   "metadata": {},
   "outputs": [
    {
     "data": {
      "text/html": [
       "<button style=\"background-color:rgb(129,156,19);color:white;\" onclick=\"loadDoc('answers/week2answerMatch.txt', '4')\">Show Answer</button>\n",
       "<p id=\"showNotes4\"></p>\n"
      ],
      "text/plain": [
       "<IPython.core.display.HTML object>"
      ]
     },
     "metadata": {},
     "output_type": "display_data"
    }
   ],
   "source": [
    "%%html\n",
    "<button style=\"background-color:rgb(129,156,19);color:white;\" onclick=\"loadDoc('answers/week2answerMatch.txt', '4')\">Show Answer</button>\n",
    "<p id=\"showNotes4\"></p>"
   ]
  },
  {
   "cell_type": "code",
   "execution_count": 25,
   "metadata": {},
   "outputs": [
    {
     "name": "stdout",
     "output_type": "stream",
     "text": [
      "--------------------------------------------------\n",
      "Welcome to Joe's Fish Market.  Please select from the following:\n",
      "\t1 = Order Fish\n",
      "\t2 = Order Lobsters and Crabs\n",
      "\t3 = Order sauces or salads\n",
      "\tq = end your order.\n",
      "Enter your choice: 3\n",
      "\n",
      "Thanks! You issued the command 3 👍\n",
      "Here are the food options:\n",
      "\tThe sauces and salads today are shrimp sauce and Caesar Salad.\n"
     ]
    }
   ],
   "source": [
    "import emoji\n",
    "\n",
    "companyName = \"Joe's Fish Market\"\n",
    "\n",
    "print(\"-\"*50)\n",
    "print(f\"Welcome to {companyName}.  Please select from the following:\")\n",
    "print(\"\\t1 = Order Fish\")\n",
    "print(\"\\t2 = Order Lobsters and Crabs\")\n",
    "print(\"\\t3 = Order sauces or salads\")\n",
    "print(\"\\tq = end your order.\")\n",
    "\n",
    "user_choice = str(input(\"Enter your choice: \")).lower()\n",
    "\n",
    "if user_choice in ['1','2','3', 'q']:\n",
    "    print(f\"\\nThanks! You issued the command {user_choice} \" + emoji.emojize(':thumbs_up:'))\n",
    "    print(\"Here are the food options:\")\n",
    "    if user_choice == '1':\n",
    "        print(\"\\tToday's fish includes seabass, hake, tilapia, and fugu.\")\n",
    "    elif user_choice == '2':\n",
    "        print(\"\\tFor today's Lobsters and Crabs, we offer items from Maine and Rhode Island.\")\n",
    "    elif user_choice == '3':\n",
    "        print(\"\\tThe sauces and salads today are shrimp sauce and Caesar Salad.\")\n",
    "    else:\n",
    "        print(\"\\tSorry to see you go!  Come back soon.\")\n",
    "else:\n",
    "    print(f\"\\nSorry, your option {user_choice} is unavailable. \")"
   ]
  },
  {
   "cell_type": "markdown",
   "metadata": {},
   "source": [
    "<hr />\n",
    "<h2 style=\"font-size: 1.5vw; color: #003262;\">While loop</h2>\n",
    "<p style=\"font-size: 1.25vw; line-height: 2vw;\">We want to keep the program running until the user wants to exit.  How to do that?  Using the <code>while</code> statement, we can test the input and keep running.</p>\n",
    "<ol>\n",
    "    <li>Notice the range() statement is not inclusive of the final value, so we need to add one to our range of acceptable values.</li>\n",
    "    <li>Notice we switched from \"q\" to quit to 4 to quit.  We'll see there are ways to use ord() and chr() to handle using 'q' as well as the <code>and</code> in our if statements to accommodate such values.</li>\n",
    "    <li>We're breaking out of the loop (perhaps redundantly to demonstrate the break) using the break command.  If we wanted to prevent exiting we could use the <code>continue</code> command.  That means we have found a condition that suits our needs but we want to keep the statement going.  For instance, say you're scanning a document for a single term \"cat\" and once found you want to keep scanning the document until the entire document is done, not stopping at just the first hit.</li>\n",
    "    </ol>"
   ]
  },
  {
   "cell_type": "code",
   "execution_count": 1,
   "metadata": {},
   "outputs": [
    {
     "name": "stdout",
     "output_type": "stream",
     "text": [
      "--------------------------------------------------\n",
      "Welcome to Joe's Fish Market.  Please select from the following: (or any other input to quit.)\n",
      "\t1 = Order Fish\n",
      "\t2 = Order Lobsters and Crabs\n",
      "\t3 = Order sauces or salads\n",
      "\t4 = Quit\n",
      "Enter your choice: 2\n",
      "\n",
      "Thanks! You issued the command 2 👍\n",
      "\tFor today's Lobsters and Crabs, we offer items from Maine and Rhode Island.\n",
      "Enter your choice: 9\n",
      "\n",
      "Thanks! You issued the command 9 👍\n",
      "\tSorry to see you go!  Come back soon.\n"
     ]
    }
   ],
   "source": [
    "import emoji\n",
    "\n",
    "companyName = \"Joe's Fish Market\"\n",
    "\n",
    "print(\"-\"*50)\n",
    "print(f\"Welcome to {companyName}.  Please select from the following: (or any other input to quit.)\")\n",
    "print(\"\\t1 = Order Fish\")\n",
    "print(\"\\t2 = Order Lobsters and Crabs\")\n",
    "print(\"\\t3 = Order sauces or salads\")\n",
    "print(\"\\t4 = Quit\")\n",
    "\n",
    "user_choice = 0\n",
    "\n",
    "while user_choice < 5:\n",
    "    user_choice = int(input(\"Enter your choice: \"))\n",
    "    print(f\"\\nThanks! You issued the command {user_choice} \" + emoji.emojize(':thumbs_up:'))\n",
    "\n",
    "    if user_choice in range(1,4):\n",
    "        if user_choice == 1:\n",
    "            print(\"\\tToday's fish includes seabass, hake, tilapia, and fugu.\")\n",
    "        elif user_choice == 2:\n",
    "            print(\"\\tFor today's Lobsters and Crabs, we offer items from Maine and Rhode Island.\")\n",
    "        elif user_choice == 3:\n",
    "            print(\"\\tThe sauces and salads today are shrimp sauce and Caesar Salad.\")\n",
    "    else:\n",
    "        print(\"\\tSorry to see you go!  Come back soon.\")\n",
    "        break;"
   ]
  },
  {
   "cell_type": "markdown",
   "metadata": {},
   "source": [
    "<hr />\n",
    "<h2 style=\"font-size: 1.5vw; color: #003262;\">For loop</h2>\n",
    "<p>The <code>for</code> loop is very important: it introduces the idea of <u>iterating over</u> a bunch of data without setting any condition ahead of time.  So, if we want to see all the data in, say, a list, we can for loop over those data.  We'll see a more efficient technique called a <code>lambda</code> function. but for the moment, let's see ... </p>\n",
    "<hr />\n",
    "<p><b>Note</b> learn this syntax because we'll use variations of it in python all the time.  The \"i\" has not been declared before hand: it is a variable that's declared on the fly and sequentially the values from the list are placed one-by-one into that variable and then that variable is printed; continue until we run out of elements in the list.</p>"
   ]
  },
  {
   "cell_type": "code",
   "execution_count": 13,
   "metadata": {},
   "outputs": [
    {
     "name": "stdout",
     "output_type": "stream",
     "text": [
      "The value is apples\n",
      "The value is bananas\n",
      "The value is edemame\n",
      "The value is cheese\n",
      "The value is fish\n",
      "The value is steak\n",
      "The value is veggie burger\n"
     ]
    }
   ],
   "source": [
    "food_choices = ['apples', 'bananas', 'edemame', 'cheese','fish','steak','veggie burger']\n",
    "\n",
    "for i in food_choices:\n",
    "    print(f\"The value is {i}\")"
   ]
  },
  {
   "cell_type": "markdown",
   "metadata": {},
   "source": [
    "<hr />\n",
    "<p>Now that we can iterate over a list (and we will soon iterate over other data structures) what if we want to find whether a single element is found <i>and</i> continue to the end of the data?</p>\n",
    "<p>Notice that <code>.upper()</code> and <code>.lower()</code> will convert the string accordingly.  Even when the string is a variable.  Knowing how to remove <code>\\r\\n</code>, <code>\\n</code>, convert data to the same data type (e.g., str or int) and case are the very first steps in cleaning data for data analysis.</p>. \n",
    "<p>Finally, we want to know the size (or length; the number of elements in our variables).  Here we use the <code>len()</code> command.  [Where do these functions or methods come from?  They come from the parent class of the object, e.g., the String class has a parent object with a way to convert data .upper() or .lower().</p>"
   ]
  },
  {
   "cell_type": "code",
   "execution_count": 14,
   "metadata": {},
   "outputs": [
    {
     "name": "stdout",
     "output_type": "stream",
     "text": [
      "#1 The value is apples\n",
      "#2 The value is bananas\n",
      "#3 The value is edemame\n",
      "#4 \tCHEESE \tYeah! we can make cheeseburgers tonight!  What else do we have?\n",
      "#5 The value is fish\n",
      "All done - we got steak.\n"
     ]
    }
   ],
   "source": [
    "food_choices = ['apples', 'bananas', 'edemame', 'cheese', 'fish', 'steak', 'veggie burger']\n",
    "\n",
    "cnt = 0\n",
    "\n",
    "for i in food_choices:\n",
    "    cnt += 1\n",
    "    if i == \"cheese\":\n",
    "        print(f\"#{cnt} \\t{i.upper()} \\tYeah! we can make cheeseburgers tonight!  What else do we have?\")\n",
    "        continue\n",
    "    if i == \"steak\":\n",
    "        print(f\"All done - we got {i}.\")\n",
    "        break\n",
    "    print(f\"#{cnt} The value is {i}\")"
   ]
  },
  {
   "cell_type": "markdown",
   "metadata": {},
   "source": [
    "<hr />\n",
    "<p><b>Nested For Loops</b></p>\n",
    "<p>For this example, we&rsquo;ll use something you haven&rsquo;t encountered yet (the matrix) in order to have enough data to use two for-loops, called a <b>nested for loop</b>.  There is a solution to this approach to make the code run faster, too, called a <b>list comprehension</b> that we'll study in a week or two, and which you&rsquo;ll find in the optional advanced part below.  For now, let's notice the nested loops.  As we&rsquo;ll see, too, two for-loops are computationally costly.</p>"
   ]
  },
  {
   "cell_type": "markdown",
   "metadata": {},
   "source": [
    "<hr />\n",
    "<div>\n",
    "    <p>\n",
    "        <img src=\"images/hands-on.png\" style=\"float:left; padding:10px; width:100px;\"/>\n",
    "        <span  style=\"color: #3B7EA1;font-size:18px;\">Hands On ...</span>\n",
    "    </p>\n",
    "    <p style=\"color:black; font-size: 14px;\"><b>Complete and execute the nested-for loop</b>\n",
    "    </p>\n",
    "</div>"
   ]
  },
  {
   "cell_type": "code",
   "execution_count": 4,
   "metadata": {},
   "outputs": [
    {
     "name": "stdout",
     "output_type": "stream",
     "text": [
      "['a', 'b', 'c', 1, 2, 3, 'X', 'Y', 'Z']\n",
      "Execution time: 0.0005767345428466797 seconds\n"
     ]
    }
   ],
   "source": [
    "import time\n",
    "start_time = time.time()\n",
    "\n",
    "my_matrix = [\n",
    "    ['a', 'b', 'c'],\n",
    "    [1, 2, 3],\n",
    "    ['X','Y','Z']\n",
    "]\n",
    "\n",
    "# INSERT YOUR ANSWER HERE\n",
    "\n",
    "print(f'Execution time: {time.time() - start_time} seconds')"
   ]
  },
  {
   "cell_type": "code",
   "execution_count": 38,
   "metadata": {},
   "outputs": [
    {
     "data": {
      "text/html": [
       "<button style=\"background-color:rgb(129,156,19);color:white;\" onclick=\"loadDoc('answers/week2answerNestedFor.txt', '5')\">Show Nested For Loop Answer</button>\n",
       "<p id=\"showNotes5\"></p>\n"
      ],
      "text/plain": [
       "<IPython.core.display.HTML object>"
      ]
     },
     "metadata": {},
     "output_type": "display_data"
    }
   ],
   "source": [
    "%%html\n",
    "<button style=\"background-color:rgb(129,156,19);color:white;\" onclick=\"loadDoc('answers/week2answerNestedFor.txt', '5')\">Show Nested For Loop Answer</button>\n",
    "<p id=\"showNotes5\"></p>"
   ]
  },
  {
   "cell_type": "markdown",
   "metadata": {},
   "source": [
    "<hr />\n",
    "<h2 style=\"font-size: 1.5vw; color: #003262;\">3. Strings</h2>\n",
    "<p style=\"font-size: 1.25vw; line-height: 2vw;\"><hr />\n",
    "<div>\n",
    "    <p>\n",
    "        <img src=\"images/DiscussIcon.png\" style=\"float:left; padding:10px; width:50px;\"/>\n",
    "        <span style=\"color: #3B7EA1;font-size:18px;\">Demo &amp; Discussion</span>\n",
    "    </p>\n",
    "    <p style=\"color:black; font-size: 14px;\">String processing is absolutely critical and being able to convert string data to other data types and vice versa, as well as extracting parts of strings (slicing) and comparing strings as the first steps in searching, sorting, clustering are all important skills to know, so let's start here.</p>\n",
    "<p style=\"color:#003262;\">String defined: a string is a contiguous block of data; declared by instantiating a variable using single- or double-quotes, e.g., x = '5', subject_name = 'Smith'.  Strings are considered static elements.  Python and most languages don't keep the entire string in the variable but ultimately keep the memory address of the first byte (the equivalent of a pointer in C++) and then retrieve (dereference) the values into string data we can read.</p>\n",
    "<p>The codes for similar-looking strings are not the same: 'a' ≠ 'A' [case sensitivity] so we convert data to be compared to the same case using the <code>.upper()</code> or <code>.lower()</code> method.  Our variables, like x = '5' are actually instantiations of Python's String Object. Consequently our variable <i>inherits</i> the properties of the parent class; and some of those properties includes methods for manipulating the string's case.</p>\n",
    "<hr />\n",
    "<p>In python the code itself looks like text, a series of Strings; our data, too, can look like a bunch of strings.  Either can be encoded in a several ways; the standard is to store data in UTF-8 and for python itself to be in UTF-8 (although ASCII will work).  What does this mean?  It means we can represent characters that surpass what we can see on our keyboards.  E.g., the English letter \"a\" (code 97) exists in the same place as the Cyrillic ф (0444); we can type \"ming wa\" in English letters yet see the Mandarian version 名娃 (U+660E)+（(U+54C7, which can be converted to a hex triplet: 0xE5 0x93 0x87), because of &ldquo;virtual keyboards&rdquo; - code libraries that accept input, see the end-user&rsquo;s preferred language output, and calculates the appropriate code point for the desired letter.  \n",
    "</p>\n",
    "<p><b>Splicing</b>: Since a string is contiguous, we can identify each letter by its position, e.g., \"cat\".  Compare these outputs:"
   ]
  },
  {
   "cell_type": "code",
   "execution_count": 6,
   "metadata": {},
   "outputs": [
    {
     "name": "stdout",
     "output_type": "stream",
     "text": [
      "c\n",
      "\n",
      "c\n",
      "a\n",
      "t\n",
      "Letter processed is 0 - c\n",
      "Letter processed is 1 - a\n",
      "Letter processed is 2 - t\n"
     ]
    }
   ],
   "source": [
    "word = 'cat'\n",
    "print(word[0])\n",
    "print(\"\")\n",
    "# not the preferred way to do it - for demo only\n",
    "i = 0\n",
    "while i < 3:\n",
    "    print(word[i])\n",
    "    i += 1\n",
    "    \n",
    "i = 0\n",
    "while i < 3:\n",
    "    print(f\"Letter processed is {i} - {word[i]}\")\n",
    "    i += 1"
   ]
  },
  {
   "cell_type": "markdown",
   "metadata": {},
   "source": [
    "<p>A more efficient way must exist, no?  Yes!</p>\n",
    "<p>Splicing allows us to pick a <i>start : stop : step</i> technique that we'll cover more next week.  For the moment, let&rsquo;s see an example:</p>"
   ]
  },
  {
   "cell_type": "code",
   "execution_count": 10,
   "metadata": {},
   "outputs": [
    {
     "name": "stdout",
     "output_type": "stream",
     "text": [
      "cat\n",
      "cat\n",
      "cat\n"
     ]
    }
   ],
   "source": [
    "word = \"cat\"\n",
    "\n",
    "# each time produces the same result - each more efficient or at least more succinct\n",
    "print(word[0:3:1])\n",
    "print(word[0:3])\n",
    "print(word[0:])"
   ]
  },
  {
   "cell_type": "markdown",
   "metadata": {},
   "source": [
    "<hr />\n",
    "<div>\n",
    "    <p>\n",
    "        <img src=\"images/hands-on.png\" style=\"float:left; padding:10px; width:100px;\"/>\n",
    "        <span  style=\"color: #3B7EA1;font-size:18px;\">Hands On ...</span>\n",
    "    </p>\n",
    "    <p style=\"color:black; font-size: 14px;\">What other ways can we get the same output of <i>cat</i>?\n",
    "    </p>\n",
    "</div>"
   ]
  },
  {
   "cell_type": "code",
   "execution_count": 17,
   "metadata": {},
   "outputs": [],
   "source": [
    "# and we can do variants - type here"
   ]
  },
  {
   "cell_type": "code",
   "execution_count": 45,
   "metadata": {},
   "outputs": [
    {
     "data": {
      "text/html": [
       "<button style=\"background-color:rgb(129,156,19);color:white;\" onclick=\"loadDoc('answers/week2answerSplice.txt', '6')\">Show Variants of String Slicing</button>\n",
       "<p id=\"showNotes6\"></p>\n"
      ],
      "text/plain": [
       "<IPython.core.display.HTML object>"
      ]
     },
     "metadata": {},
     "output_type": "display_data"
    }
   ],
   "source": [
    "%%html\n",
    "<button style=\"background-color:rgb(129,156,19);color:white;\" onclick=\"loadDoc('answers/week2answerSplice.txt', '6')\">Show Variants of String Slicing</button>\n",
    "<p id=\"showNotes6\"></p>"
   ]
  },
  {
   "cell_type": "code",
   "execution_count": 19,
   "metadata": {},
   "outputs": [
    {
     "name": "stdout",
     "output_type": "stream",
     "text": [
      "tac\n",
      "ac\n",
      "t\n"
     ]
    }
   ],
   "source": [
    "# but what if we thought differently? Start from the end and go forward?\n",
    "print(word[::-1])\n",
    "print(word[1::-1])\n",
    "print(word[:1:-1])"
   ]
  },
  {
   "cell_type": "markdown",
   "metadata": {},
   "source": [
    "<hr />\n",
    "<div>\n",
    "    <p>\n",
    "        <img src=\"images/BreakoutIcon.png\" style=\"float:left; padding:10px; width:50px;\"/>\n",
    "        <span style=\"color: #3B7EA1;font-size:18px;\">\n",
    "\t\tBreakout Room Activity\n",
    "\t\t</span>\n",
    "    <p style=\"color:black; font-size: 14px;\">[link to activity]\n",
    "    </p>\n",
    "</div> "
   ]
  },
  {
   "cell_type": "markdown",
   "metadata": {},
   "source": [
    "<hr />\n",
    "<div style=\"font-size:36; background-color: #003262; color:white; padding:10px; border-radius:6px;\">End of week 2</div>"
   ]
  },
  {
   "cell_type": "markdown",
   "metadata": {},
   "source": [
    "<hr />\n",
    "<div>\n",
    "    <p>\n",
    "        <img src=\"images/AdvancedIcon.png\" style=\"float:left; padding:10px; width:50px;\"/>\n",
    "        <span style=\"color: #3B7EA1;font-size:18px;\">\n",
    "\t\tOptional Advanced Materials\n",
    "\t\t</span>\n",
    "    <ul>\n",
    "        <il>Using a <b>comprehension</b> instead of nested for loops</li>\n",
    "        <li>Python Object Hierarchy</li>\n",
    "        <li>Your OS and Python Versions, Locations</li>\n",
    "    </ul>\n",
    "</div> "
   ]
  },
  {
   "cell_type": "markdown",
   "metadata": {},
   "source": [
    "<h2 style=\"font-size: 1.5vw; color: #003262;\">Review of If and Match statements</h2>\n",
    "<p style=\"font-size: 1.25vw; line-height: 2vw;\">We want to create a menu for end-users using a terminal.  We want to limit the input from the standard input (the keyboard, aka stdin) to acceptable values; and then send a message to the standard output (monitor, aka stdout).   The user will be shown a message and then prompted to input data within a certain range.  We&rsquo;ll change the input to make sure the data type is what we want (here, a string).</p>\n",
    "<hr />\n",
    "<p>\n",
    "    <table width=\"100%\" style=\"font-size:12px;background-color:white;\">\n",
    "        <tr>\n",
    "            <td style=\"vertical-align:top;text-align:left;\">\n",
    "                <p>Single condition:</p>\n",
    "<code>\n",
    "if <i>condition</i>:<br />\n",
    "    <i>do_something()</i><br />\n",
    "else:<br />\n",
    "    <i>do_something()</i><br />\n",
    "</code>\n",
    "</td>\n",
    "<td style=\"vertical-align:top;text-align:left;\">\n",
    "<p>More than 1  condition:<br />\n",
    "<code>\n",
    "if <i>condition1</i>:<br />\n",
    "   <i>do_something1</i><br />\n",
    "elif <i>condition2</i>:<br />\n",
    "    <i>do_something2</i><br />\n",
    "else:<br />\n",
    "    <i>do_default</i><br />\n",
    "    </code>\n",
    "<br />\n",
    "<code>\n",
    "if ...:\n",
    "<br />\n",
    "elif ...:\n",
    "<br />\n",
    "elif ...:\n",
    "<br />\n",
    "else:</code>\n",
    "</td>\n",
    "        </tr>\n",
    "        <tr>\n",
    "            <td colspan='2' style=\"vertical-align:top;text-align:left;\">\n",
    "                <p>5 of more conditions, consider the <code>match</code></p>\n",
    "                \n",
    "<pre>\n",
    "user_option = 5\n",
    "\n",
    "match user_option:\n",
    "    case 0:\n",
    "        <i>do_something()</i>\n",
    "    case 2:\n",
    "        <i>do_something_else</i>\n",
    "    ...\n",
    "    case <i>n</i>:\n",
    "        <i>do_whatever</i>\n",
    "    case _:\n",
    "        <i>nothing matched, so use this default</i>\n",
    "</pre>\n",
    "</td></tr>\n",
    "</table>\n",
    "                \n",
    "\n",
    "\n",
    "<p style=\"font-size: 1.25vw; line-height: 2vw;\">Notice the first iteration does not check for values - the end-user can type any value.  Then we'll refine the menu.  Here's what you should notice:\n",
    "    <ol style=\"font-size: 1.25vw; line-height: 2vw; color: #003262;\">\n",
    "        <li>Line 1: the companyName variable is a String with double-quotes; that means we can use a single quote in the string without causing a mismatched quote issue</li>\n",
    "        <li>Line 2: Notice the '-'*50. Because every char can be represented as a number, we can use operations on characters, too (at times)</li>\n",
    "        <li>Line 3: Notice the print() and the print(f\"\") commands.  <code>print(f\"\")</code> allows us to combine data with variables (in the { }) in a single String.  This is really convenient for sending messages to the end-user.</li>\n",
    "        <li>Lines 4-8 use the \\ t.  The slash \\ is an <u>escape character</u>, telling the interpreter to \"escape\" from its usual processing and treat the next character in a special way.  Characters whose numeric value is &lt; 32 are called non-printing characters and usually control how the output words.  The \\t = \"tab\"; \\n = \"new line\".  Be aware of \"\\r\\n\" - this is the older Windows win-1265 encoding for \"return + new line\" and must always be checked when reading data.</li>\n",
    "        <li>Line 9: notice the 'q' is in lower case.  What if we wanted to ensure that the end-user's response was always a capital (upper case) letter?</li>\n",
    "        <li>Notice the <code>input</code> function.  This command will stop the code running until there is input from the currently selected stdin.</li>\n",
    "        </ol>\n",
    " </p>"
   ]
  },
  {
   "cell_type": "markdown",
   "metadata": {},
   "source": [
    "<hr />\n",
    "<h2>Demo of a Comprehension</h2>"
   ]
  },
  {
   "cell_type": "code",
   "execution_count": 34,
   "metadata": {},
   "outputs": [
    {
     "name": "stdout",
     "output_type": "stream",
     "text": [
      "['a', 'b', 'c', 1, 2, 3, 'X', 'Y', 'Z']\n",
      "Execution time: 0.00039696693420410156 seconds\n"
     ]
    }
   ],
   "source": [
    "\"\"\"\n",
    "ignore this for the moment - it's to prep you for the idea of \n",
    "collapsing for loops into a single line of code, called a list comprehension\n",
    "\"\"\"\n",
    "\n",
    "import time\n",
    "start_time = time.time()\n",
    "\n",
    "my_matrix = [\n",
    "    ['a', 'b', 'c'],\n",
    "    [1, 2, 3],\n",
    "    ['X','Y','Z']\n",
    "]\n",
    "\n",
    "x = [num for row in my_matrix for num in row]\n",
    "print(x)\n",
    "\n",
    "print(f'Execution time: {time.time() - start_time} seconds')"
   ]
  },
  {
   "cell_type": "markdown",
   "metadata": {},
   "source": [
    "<hr />\n",
    "<h2 id=\"objects\">Python Object Hierarchy</h2>\n",
    "<div style=\"padding: 10px; border-radius:4px;\">\n",
    "<table width=\"100%\">\n",
    "    <tr>\n",
    "        <td style=\"width:50%;\">\n",
    "<p style=\"font-size: 1.25vw; line-height: 2vw;\">Python is an object-oriented scripting language; in this case we can write code in two styles: procedural or object-oriented (OOP).  We'll start with the former and work towards OOP.  Like all OOP, all variables, built-in methods, and other efficiencies, like lambda functions, belong to a hierarchy, called the <a href=\"https://docs.python.org/3/reference/datamodel.html\" target=\"new\">Python Object Hierarchy</a>.  This means when we create a variable or use a function we are actually copying part of python's own code, making a copy for our own use.  Variables &amp; functions and features such as \"magic methods\" are encapsulated in an object; objects all have a parent object or 1 or more child objects.   We'll work through these concepts as the <h3>Python Object Hierarchy</h3>\n",
    "            <p style=\"font-size: 1.25vw; line-height: 2vw;\">The main point of this image is to realize (a) the root of all the code is an Object, (b) it is the parent of lots of child objects, (c) each of these objects either contains its own children, variables and methods, or inherits them from its parent, and (d) all our <b>variables</b> derive from (or instantiate) an object from this hierarchy.</p>\n",
    "        </td>\n",
    "        <td>\n",
    "            <a href=\"images/object_hierarchy.png\" target=\"new\"><img src=\"images/object_hierarchy.png\"/></a>\n",
    "        </td>\n",
    "    </tr>\n",
    "</table>"
   ]
  },
  {
   "cell_type": "markdown",
   "metadata": {},
   "source": [
    "<hr />\n",
    "<h2>Your OS, Python, version and location</h2>\n",
    "<p style=\"font-size: 1.25vw; line-height: 2vw;\">As a scripting language, our scripts need to be executed or run through the python program (python.app or python.exe), an application that accepts our script file (ending in .py), which is then converted on-the-fly into object code.  [<a href=\"https://docs.python.org/3/tutorial/interpreter.html\" target=\"new\">Python Interpreter</a>:  We can interact with Python through (a) the python interpreter in a terminal window \"interactive mode\", (b) python&rsquo;s included IDLE application or the similar application, <a href=\"https://jupyter.org\" target=\"new\">Jupyter Notebook</a>, and (c) other IDEs (integrated development environments, such as Spyder).  </p>\n",
    "<p style=\"font-size: 1.25vw; line-height: 2vw;\">\n",
    "    <span style=\"color:3B7EA1;\"><b>Interactive Mode</b>:</span>. start a terminal window, and issue the command to start python's interactive mode.  Depending on your own setup you may end-up invoking a different version than you think; to find out which you're using, enter the Unix command <code>which python</code> to locate the path to your currently preferred version and <code>python --version</code> to see the version number:\n",
    "<pre>\n",
    "gb@bk ~ % which python\n",
    "/usr/local/bin/python\n",
    "gb@bk ~ % python --version\n",
    "Python 3.8.5</pre>\n",
    "<br />\n",
    "You can invoke other installed versions by typing that version in the command, e.g., \n",
    "<pre>\n",
    "gb@bk ~ % python3.10\n",
    "Python 3.10.1 (v3.10.1:2cd268a3a9, Dec  6 2021, 14:28:59) [Clang 13.0.0 (clang-1300.0.29.3)] on darwin\n",
    "Type \"help\", \"copyright\", \"credits\" or \"license\" for more information.</pre>\n",
    "<br />Note that the python prompt is &gt;&gt;&gt;   To exit this interactive mode, enter <code>exit()</code> and press enter.</p>\n",
    "<hr />\n",
    "<p style=\"font-size: 1.25vw; line-height: 2vw;\">The object code is then executed by the OS (Operating System).  Scripts are more useful than the alternative, compiled programs, because we can fix an error and immediately put the script back into service, instead of having to recompile and redistribute the code, as we do in Java and C++.</p>\n",
    "<p style=\"font-size: 1.25vw; line-height: 1.6vw;\"> <b>Updating your libraries</b>:  There are several ways to update the libraries used by python.  Pip is one of them.  Check out <a href=\"https://pandas.pydata.org/docs/getting_started/install.html\" target=\"new\">this site</a>.\n",
    "<hr />\n",
    "<p style=\"font-size: 1.25vw; line-height: 2vw;\">The Python homepage [https://www.python.org] suggests some uses for python: web development [Django, Pyramid, Bottle, web2py and others; GUI development [tkInter, PyGOBject, PyQT, PySide, wxPython]; scientific and numeric [SciPy, Pandas, IPython], software development, and administration.  There are a number of <i>libraries</i> of special-purpose code that we import, such as matplotlib, sciplot, numpy, NLTK, and many others; common to employ python for Machine Learning (such as Naive Baysean, Text processing,  web scraping (BeautifulSoup), clustering, principal component analysis, web scraping (BeautifulSoup), or fun output, like <a href=\"https://pypi.org/project/emoji/\" target=\"new\">emojis</a>), etc.]  The latest version of python (as of [<a href=\"https://www.python.org/downloads/\" target=\"new\">June 25, 2025</a>) is 3.11.  Note that versions 3.10 and 3.11 may not support some commonly used libraries; 3.12 is scheduled for release soon.</p>\n",
    "<p>The version used for these notebooks is 3.11.3.  Note that Jupyter Notebook is going to be updated, too.</p>\n",
    "<hr />\n",
    "<p style=\"font-size: 1.25vw; line-height: 2vw;\">Jupyter</p><p>is just an application, not unlike any other program you might use, say MS Word or Spyder or a web browser. Jupyter is just an application (a browser) that communicates to python to execute commands for us.  Since the GUI for Jupyter supports some HTML commands we can make a webpage that looks [we hope] attractive, easily update the content, and interactively execute python commands.</p>\n",
    "<p>Jupyer is often distributed as part of a suite of helper tools in Anaconda; or it can be downloaded and used independently.  For example, you can start jupyter from the command line: <code>jupyter notebook</code> ... that's it!</p>"
   ]
  },
  {
   "cell_type": "code",
   "execution_count": null,
   "metadata": {},
   "outputs": [],
   "source": []
  }
 ],
 "metadata": {
  "kernelspec": {
   "display_name": "Python 3 (ipykernel)",
   "language": "python",
   "name": "python3"
  },
  "language_info": {
   "codemirror_mode": {
    "name": "ipython",
    "version": 3
   },
   "file_extension": ".py",
   "mimetype": "text/x-python",
   "name": "python",
   "nbconvert_exporter": "python",
   "pygments_lexer": "ipython3",
   "version": "3.11.4"
  }
 },
 "nbformat": 4,
 "nbformat_minor": 4
}
