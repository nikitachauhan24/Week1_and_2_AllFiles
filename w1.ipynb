{
 "cells": [
  {
   "cell_type": "markdown",
   "id": "7ab7be74",
   "metadata": {},
   "source": [
    "<p>Used in week 1, 2023.  Make sure notebook is Trusted before running .js.</p>"
   ]
  },
  {
   "cell_type": "code",
   "execution_count": 17,
   "id": "9579eb2f",
   "metadata": {},
   "outputs": [
    {
     "data": {
      "text/html": [
       "<script src=\"js/showNotes.js\"></script>\n"
      ],
      "text/plain": [
       "<IPython.core.display.HTML object>"
      ]
     },
     "metadata": {},
     "output_type": "display_data"
    }
   ],
   "source": [
    "%%html\n",
    "<script src=\"js/showNotes.js\"></script>"
   ]
  },
  {
   "cell_type": "markdown",
   "id": "b2c0606c",
   "metadata": {},
   "source": [
    "<meta name=\"viewport\" content=\"width=device-width, initial-scale=1\">\n",
    "<p style=\"font-size:9px;\">Version: Discussion version 1, June 25, 2023 [&copy; 2023 gb].  Colors from <a href=\"https://brand.berkeley.edu/identity-and-visual-design/color\" target=\"new\">UC Berkeley's official branding  site</a>  Berkeley Blue: 003262; Founder's Rock: 3B7EA1.</p>\n",
    "<hr />\n",
    "<p>&nbsp;</p>\n",
    "<img src=\"images/ischool-banner.png\" />\n",
    "<p>&nbsp;</p>\n",
    "<div style=\"height: 100px;color:#3B7EA1; font-size:24px; vertical-align:top; text-align:left;\">\n",
    "    Computing for Data Science\n",
    "    <img style=\"width:20%; vertical-align:top; float: left; padding-right: 20px; display: block; margin-left: 0; margin-right: auto;\" \n",
    "         src=\"images/ucb_logo.png\"/>    \n",
    "</div>"
   ]
  },
  {
   "cell_type": "markdown",
   "id": "da6acebf",
   "metadata": {},
   "source": [
    "<hr />\n",
    "<h1 style=\"font-size:36; color: #003262;\">Current (F23) Weekly Syllabus Topics</h1>\n",
    "<table width=\"100%;\">\n",
    "<tr>\n",
    "<td style=\"text-align:left; vertical-align:top;\">\n",
    "<ol>\n",
    "    <li>\n",
    "    <ul style=\"background-color:#FDB515;\">\n",
    "        <li>Computer Architecture Basics; \n",
    "        Bash, Git, GitHub;</li>\n",
    "        <li>Command Line;</li>\n",
    "        <li>Manipulating Files &amp; Directories;\n",
    "        VIM;\n",
    "        Command Line intro;</li>\n",
    "    </ul>\n",
    "</li>\n",
    "<li>\n",
    "    <ul>\n",
    "    <li>Programming Lang Orientation: \n",
    "    <li>jupyter; python and command line;\n",
    "    objects &amp; types;\n",
    "    <li>variables (numbers and strings), formatting strings;</li>\n",
    "    <li>control while loops</li>\n",
    "    </ul>\n",
    "</li>\n",
    "<li>\n",
    "    <ul>\n",
    "        <li>Sequences</li>\n",
    "        <li>Lists, Tuples &amp; Mutability</li>\n",
    "        <li>Ranges</li>\n",
    "        <li>Dictionaries, Nested Lists &amp; dictionaries</li>\n",
    "    </ul>\n",
    "</li>\n",
    "</ol>\n",
    "</td>\n",
    "<td style=\"text-align:left; vertical-align:top;\">\n",
    "<ol start=\"4\">\n",
    "<li>\n",
    "    <ul>\n",
    "        <li>For Loops\n",
    "        <li>Exits\n",
    "        <li>Algorithsm: searching [exhaustive, bisection, heron's</li>\n",
    "        <li>Comprehensions</li>\n",
    "    </ul>\n",
    "</li>\n",
    "<li>\n",
    "    <ul>\n",
    "        <li>Functions</li>\n",
    "        <li>Calling, Nesting</li>\n",
    "        <li>Namespaces, Global and Local Vars</li>\n",
    "        <li>Recursion; nested dictionaries &amp; recursion</li>\n",
    "        <li>Parameters</li>\n",
    "        <li>Exceptions</li>\n",
    "        <li>Lambdas</li>\n",
    "    </ul>\n",
    "</li>\n",
    "<li>\n",
    "    <ul>\n",
    "        <li>Complexity\n",
    "        <li>Measuring time and Steps</li>\n",
    "        <li>Big &Theta;</li>\n",
    "        <li>Searching and Subsequences\n",
    "        <li>Modules &amp; Packages</li>\n",
    "    </ul>\n",
    "</li>\n",
    "</ol>\n",
    "</td>\n",
    "    </tr>\n",
    "<table>\n",
    "<table width=\"100%\">\n",
    "    <tr>\n",
    "<td style=\"text-align:left; vertical-align:top;\">\n",
    "<ol start=\"7\">\n",
    "<li>\n",
    "    <ul>\n",
    "        <li>Classes</li>\n",
    "        <li>Attributes, Binding</li>\n",
    "        <li>Initializing and Control</li>\n",
    "        <li>&UnderBar;&UnderBar;str&UnderBar;&UnderBar; and &UnderBar;&UnderBar;repr&UnderBar;&UnderBar;\n",
    "        </li>\n",
    "    </ul>\n",
    "</li>\n",
    "<li>\n",
    "    <ul>\n",
    "        <li>Object-Oriented Programming</li>\n",
    "        <li>Inheritance</li>\n",
    "        <li>Polymorphism</li>\n",
    "        <li>Magic Methods</li>\n",
    "    </ul>\n",
    "</li>\n",
    "<li>\n",
    "    <ul>\n",
    "    <li>PyData Ecosystem and Numpy</li>\n",
    "    <li>Boolean selection and types</li>\n",
    "    <li>Vectorization &amp; Multidimensional Arrays</li>\n",
    "    <li>Slicing and combining</li>\n",
    "    <li>Linear model in matrix form, Numpy</li>\n",
    "    </ul>\n",
    "</li>\n",
    "</ol>\n",
    "</td>\n",
    "<td style=\"text-align:left; vertical-align:top;\">\n",
    "<ol start=\"10\">\n",
    "<li>\n",
    "    <ul>\n",
    "        <li>Pandas &amp; Data Analysis</li>\n",
    "        <li>Series and Data Frames</li>\n",
    "        <li>Bracket index, log &amp; iloc</li>\n",
    "        <li>Functions and DataFrames</li>\n",
    "        <li>Sorting</li>\n",
    "    </ul>\n",
    "</li>\n",
    "<li>\n",
    "    <ul>\n",
    "        <li>Datasets and EDA</li>\n",
    "        <li>Fixing Data Issues (Cleansing)</li>\n",
    "        <li>Answering Questions</li>\n",
    "    </ul>\n",
    "</li>\n",
    "<li>\n",
    "    <ul>\n",
    "        <li>Plotting &amp; Visualization</li>\n",
    "        <li>Libraries (Matplotlib, Seaborn, etc.)</li>\n",
    "        <li>Plot features</li>\n",
    "    </ul>\n",
    "</li>\n",
    "</ol>\n",
    "</td>\n",
    "</tr>\n",
    "</table>\n",
    "<table width=\"100%\">\n",
    "<tr>\n",
    "<td style=\"text-align:left; vertical-align:top;\">\n",
    "<ol start=\"13\">\n",
    "    <li>\n",
    "    <ul>\n",
    "        <li>Pandas Aggregation &amp; Group Operations</li>\n",
    "        <li>Series.groupby</li>\n",
    "        <li>DataFrame.groupby</li>\n",
    "        <li>Aggregation</li>\n",
    "        <li>Pivot Tables &amp; Crosstabs</li>\n",
    "    </ul>\n",
    "</li>\n",
    "<li>\n",
    "    <ul>\n",
    "        <li>Presentations (so no time to cover...\n",
    "        <li>Texts, unicode, decoding errors, regex, time series, etc.)</li>\n",
    "    </ul>\n",
    "</li>\n",
    "</ol>\n",
    "</td>\n",
    "</tr>\n",
    "</table>\n",
    "    <hr />\n",
    "<table width=\"100%\" style=\"background-color:white;\">\n",
    "    <tr>\n",
    "        <td style=\"text-align:left; background-color:white; vertical-align: top;\"><img src=\"images/IntroIcon.png\" style=\"height:25px;\"></td>\n",
    "        <td style=\"text-align:left;\">Introduction<br />or Info</td>\n",
    "        <td style=\"text-align:left;\"><img src=\"images/hands-on.png\" style=\"height:40px;width:40px;\"></td>\n",
    "        <td style=\"text-align:left;\">Hands-on Activity</td>\n",
    "        <td style=\"text-align:left;\"><img src=\"images/QuestionIcon.png\" style=\"width:25px;\"></td>\n",
    "        <td style=\"text-align:left;\">Question</td>\n",
    "        <td style=\"text-align:left;\"><img src=\"images/DiscussIcon.png\" style=\"width:25px;\">\n",
    "        </td>\n",
    "        <td style=\"text-align:left;\">Discussion<br />\n",
    "            or Demo</td>\n",
    "        <td style=\"text-align:left;\"><img src=\"images/BreakoutIcon.png\" style=\"width:25px;\"></td>        \n",
    "        <td style=\"text-align:left;\">Breakout Room</td>\n",
    "        <td style=\"text-align:left;\">\n",
    "            <img src=\"images/AdvancedIcon.png\" style=\"width:25px;\">\n",
    "        </td>\n",
    "        <td style=\"text-align:left;\">Advanced</td></tr>\n",
    "    </table>"
   ]
  },
  {
   "cell_type": "markdown",
   "id": "696b9cb1",
   "metadata": {},
   "source": [
    "<hr />\n",
    "<h1 style=\"font-size:36; color: #003262;\">\n",
    "Week 1</h1>\n",
    "<p>\n",
    "    <ol>\n",
    "        <li>Welcome</li>\n",
    "        <li>Skill Survey</li>\n",
    "        <li>Computer Architecture Basics; Bash, Git, GitHub;</li>\n",
    "        <li>Command Line;</li>\n",
    "        <li>Manipulating Files &amp; Directories</li>\n",
    "     </ol>\n",
    "</p>"
   ]
  },
  {
   "cell_type": "markdown",
   "id": "1c010a92",
   "metadata": {},
   "source": [
    "<hr />\n",
    "<div>\n",
    "    <p>\n",
    "        <img src=\"images/IntroIcon.png\" style=\"float:left; padding:10px; width:50px;\"/>\n",
    "        <span style=\"color: #3B7EA1;font-size:18px;\">Welcome &amp; Introduction\n",
    "    </span>\n",
    "    <p style=\"color:black; font-size: 14px;\">Let&rsquo;s spend a few minutes getting to know each other, especially your skill set/level, location, and industry. Project 2 is a group effort and many folk work with people in the same field.  The course is geared specifically for <b>students new to coding</b>.  [Zoom Survey]</p>\n",
    "</div> "
   ]
  },
  {
   "cell_type": "markdown",
   "id": "1711b622",
   "metadata": {},
   "source": [
    "<hr />\n",
    "<div>\n",
    "    <p>\n",
    "        <img src=\"images/QuestionIcon.png\" style=\"float:left; padding:10px; width:50px;\"/>\n",
    "        <span style=\"color: #3B7EA1;font-size:18px;\">Questions &amp; Practice</span>\n",
    "           <p style=\"color:black; font-size: 14px;\">All commands we issue to python, through .py files, the interactive terminal, an IDE, or jupyter notebook, are processed received by the operating system, passed on to Python, which in turn executes the commands and sends back the results, as well as error messages, which, in their turn get sent back to the application.  Jupyter Notebook is but an application, no different in a sense than MS Word, but designed to interact first with python.  Consequently, when we want to bypass python and speak directly with the OS using Jupyter we need the ! or % commands.  They&rsquo;re different.  This explains, too, why you&rsquo;ll see <code>import os</code> in some examples: a library of code [module] that let's our code interact with the operating system.</p>\n",
    "    <p>A note, too, about <b>shells</b>: a shell is the interactive way to communicate with the operating system.  <i>bash</i> used to be the default; today it&rsquo;s <i>zsh</i>.  To switch between them, just enter the command <code>bash</code> or <code>zsh</code> and see what happens.</p><br />\n",
    "    <p style=\"color:black; font-size: 14px;\"> <img src=\"images/hands-on.png\" style=\"height:40px;width:40px;float: left;\">\n",
    "        When would you choose <code>!</code> over <code>%</code> when using Jupyter?  Experiment with a few commands and let&rsquo;s see.\n",
    "    </p>\n",
    "    <ol>\n",
    "        <li>What&rsquo;s your current working directory?</li>\n",
    "        <li>Make a list of all files in this directory ... </li>\n",
    "        <li>And a list that shows the full file names, in alphabetical order, with file permissions (read, write, execute) for owner, group, world.</li>\n",
    "        <li>who are you logged in as?  Where are you in the file directory?\n",
    "        <li>Compare changing directory using ! and %</li>\n",
    "        <li>What&rsquo;s the difference?</li>\n",
    "    </ol>\n",
    "    <p>\n",
    "    <a href=\"https://ipython.readthedocs.io/en/stable/interactive/magics.html\" target=\"new\">Check out the documentation</a>.  In our notebooks, we can see the answers to in-class prepared questions by pressing the Show Answer button; and we can experiment directly in the cell to test code snippets.</p>\n",
    "</div>"
   ]
  },
  {
   "cell_type": "code",
   "execution_count": 18,
   "id": "2ee933ed",
   "metadata": {},
   "outputs": [
    {
     "name": "stdout",
     "output_type": "stream",
     "text": [
      "/Users/nikita/Downloads/Week1_and_2_AllFiles\n"
     ]
    }
   ],
   "source": [
    "!pwd"
   ]
  },
  {
   "cell_type": "code",
   "execution_count": 19,
   "id": "4bbcec15",
   "metadata": {},
   "outputs": [],
   "source": [
    "# enter your answers for the first 3 questions\n",
    "#1. /Users/nikita\n",
    "#2. Applications\n",
    "# Creative Cloud Files\n",
    "# Creative Cloud Files nikita.chauhan24@gmail.com a5a4ff6a360dafc1ad957539f6a05aa5375da7dbf5aff924b5634c9b528abf81\n",
    "# Desktop\n",
    "# Documents\n",
    "# Downloads\n",
    "# FinalProject.R\n",
    "# Library\n",
    "# Movies\n",
    "# Music\n",
    "# Pictures\n",
    "# PracticeExam.R\n",
    "# Public\n",
    "# anaconda.sh\n",
    "# anaconda3\n",
    "# first_drill\n",
    "# github\n",
    "# opt\n",
    "# w1.ipynb\n",
    "# 3. drwx------@    3 nikita  staff         96 Apr  2  2021 Applications\n",
    "# drwx------@    8 nikita  staff        256 Sep  7 11:42 Creative Cloud Files\n",
    "# drwx------@    4 nikita  staff        128 Apr  4  2021 Creative Cloud Files nikita.chauhan24@gmail.com a5a4ff6a360dafc1ad957539f6a05aa5375da7dbf5aff924b5634c9b528abf81\n",
    "# drwx------@   27 nikita  staff        864 Sep  6 19:45 Desktop\n",
    "# drwx------@   64 nikita  staff       2048 Sep  6 22:25 Documents\n",
    "# drwx------@ 1696 nikita  staff      54272 Sep  7 13:25 Downloads\n",
    "# -rw-r--r--     1 nikita  staff       3126 May 13 17:50 FinalProject.R\n",
    "# drwx------@   90 nikita  staff       2880 Mar  9 16:22 Library\n",
    "# drwx------     6 nikita  staff        192 Dec 27  2022 Movies\n",
    "# drwx------+    4 nikita  staff        128 Apr  6  2021 Music\n",
    "# drwx------+    8 nikita  staff        256 Aug 10  2021 Pictures\n",
    "# -rw-r--r--     1 nikita  staff         50 Apr  7 12:55 PracticeExam.R\n",
    "# drwxr-xr-x+    4 nikita  staff        128 Apr  2  2021 Public\n",
    "# -rw-r--r--     1 nikita  staff  676990792 Sep  6 17:59 anaconda.sh\n",
    "# drwxr-xr-x    26 nikita  staff        832 Sep  6 18:02 anaconda3\n",
    "# drwxr-xr-x     4 nikita  staff        128 Sep  6 20:14 first_drill\n",
    "# drwxr-xr-x     3 nikita  staff         96 Sep  7 10:20 github\n",
    "# drwxr-xr-x     4 nikita  staff        128 Jan 24  2022 opt\n",
    "# -rw-r--r--     1 nikita  staff      23183 Sep  6 18:15 w1.ipynb"
   ]
  },
  {
   "cell_type": "code",
   "execution_count": 20,
   "id": "00809ec0",
   "metadata": {},
   "outputs": [
    {
     "name": "stdout",
     "output_type": "stream",
     "text": [
      "nikita\n"
     ]
    }
   ],
   "source": [
    "!whoami\n",
    "# now try with %"
   ]
  },
  {
   "cell_type": "code",
   "execution_count": 24,
   "id": "3493daa1",
   "metadata": {},
   "outputs": [
    {
     "data": {
      "text/html": [
       "<button onclick=\"loadDoc('answers/w1_1.txt', '1')\">Show Answer</button>\n",
       "<p id=\"showNotes1\"></p>\n"
      ],
      "text/plain": [
       "<IPython.core.display.HTML object>"
      ]
     },
     "metadata": {},
     "output_type": "display_data"
    }
   ],
   "source": [
    "%%html\n",
    "<button onclick=\"loadDoc('answers/w1_1.txt', '1')\">Show Answer</button>\n",
    "<p id=\"showNotes1\"></p>"
   ]
  },
  {
   "cell_type": "code",
   "execution_count": 25,
   "id": "2d6167af",
   "metadata": {},
   "outputs": [
    {
     "name": "stdout",
     "output_type": "stream",
     "text": [
      "shell  0.00s user 0.01s system 498% cpu 0.002 total\n",
      "children  0.00s user 0.00s system 0% cpu 0.002 total\n"
     ]
    }
   ],
   "source": [
    "!time"
   ]
  },
  {
   "cell_type": "markdown",
   "id": "62d1cf64",
   "metadata": {},
   "source": [
    "<hr />\n",
    "<div>\n",
    "    <p style=\"color: #3B7EA1;font-size:18px;\">\n",
    "        <img src=\"images/hands-on.png\" style=\"height:40px;width:40px;float: left;\">\n",
    "        More Practice\n",
    "    </p>\n",
    "<p>Other commonly used commands help us know more about our computing environment, use the OS&rsquo;s own clock, and begin to manipulate files.  Here are some basics ones to know and explore.</p></div>"
   ]
  },
  {
   "cell_type": "code",
   "execution_count": 26,
   "id": "584c0197",
   "metadata": {},
   "outputs": [],
   "source": [
    "# try these on your own computer.\n",
    "# pwd, shell, date, cd, %, !, wc, grep, &gt; and |, \n",
    "# head, tail, which, python --version"
   ]
  },
  {
   "cell_type": "code",
   "execution_count": 27,
   "id": "1abfb585",
   "metadata": {},
   "outputs": [
    {
     "name": "stdout",
     "output_type": "stream",
     "text": [
      "Thu Sep  7 22:58:51 PDT 2023\n",
      "/Users/nikita/Downloads/Week1_and_2_AllFiles\n",
      "   September 2023     \n",
      "Su Mo Tu We Th Fr Sa  \n",
      "                1  2  \n",
      " 3  4  5  6 \u001b[7m 7\u001b[m  8  9  \n",
      "10 11 12 13 14 15 16  \n",
      "17 18 19 20 21 22 23  \n",
      "24 25 26 27 28 29 30  \n",
      "                      \n",
      "/Users/nikita/Downloads/Week1_and_2_AllFiles\n",
      "/Users/nikita/Downloads/Week1_and_2_AllFiles/images\n",
      "/Users/nikita/Downloads/Week1_and_2_AllFiles/images\n",
      "/Users/nikita/Downloads/Week1_and_2_AllFiles\n"
     ]
    }
   ],
   "source": [
    "!date\n",
    "!pwd\n",
    "!cal\n",
    "!cd images\n",
    "!pwd\n",
    "%cd images\n",
    "!pwd\n",
    "%cd ..\n",
    "# let's save our calendar to a file ... how?"
   ]
  },
  {
   "cell_type": "markdown",
   "id": "c1c5ca53",
   "metadata": {},
   "source": [
    "<hr />\n",
    "<p style=\"font-family: Times; font-size:18px;line-height:25px;\">\n",
    "    <img src=\"images/DiscussIcon.png\" style=\"float:left; padding:5px; width:50px;\">\n",
    "    As part of file processing, getting to know our data, etc., there are a couple of handy commands:  Using the demotextfile.txt that's in this folder, how would you view the </p>\n",
    "    <ol>\n",
    "    <li>top (say the top 10 lines and the top 4?)</li>\n",
    "    <li>bottom (same), and</li>\n",
    "    <li>count the total number of words; the # of lines of text</li>\n",
    "    <li>store the total words in a new file?</li>\n",
    "    <li>find out where we are in Unix</li>\n",
    "    </ol>of a file?\n",
    "</div> "
   ]
  },
  {
   "cell_type": "code",
   "execution_count": 33,
   "id": "f278bcdd",
   "metadata": {},
   "outputs": [],
   "source": [
    "# Use this box to test: change the command to suit \n",
    "# each of the questions above...\n",
    "# !cat demotextfile.txt\n",
    "# !head -n 10 demotextfile.txt\n",
    "# !head -n 4 demotextfile.txt\n",
    "# !tail -n 10 demotextfile.txt\n",
    "# !head -n 10 demotextfile.txt\n",
    "# !wc -w demotextfile.txt\n",
    "# !wc -1 demotextfile.txt\n",
    "# !wc -w demotextfile.txt | awk '{print $1}' > wordcount.txt\n",
    "# !pwd\n",
    "\n",
    "\n"
   ]
  },
  {
   "cell_type": "markdown",
   "id": "e9f8cb0b",
   "metadata": {},
   "source": [
    "<p>\n",
    "    <img src=\"images/IntroIcon.png\" style=\"float:left; padding:5px; width:50px;\"><code>grep</code>: Given one or more patterns, grep searches input files for matches to the patterns. When it finds a match in a line, it copies the line to standard output (by default), or produces whatever other sort of output you have requested with options.\n",
    "<p><img src=\"images/hands-on.png\" style=\"height:40px;width:40px;float: left;\">\n",
    "Though grep expects to do the matching on text, it has no limits on input line length other than available memory, and it can match arbitrary characters within a line. If the final byte of an input file is not a newline, grep silently supplies one. Since newline is also a separator for the list of patterns, there is no way to match newline characters in a text. [ref: <a href=\"https://www.gnu.org/software/grep/manual/grep.html#:~:text=grep%20searches%20the%20named%20input,grep%20searches%20the%20working%20directory%20\" target=\"new\">Manual</a>]</p>"
   ]
  },
  {
   "cell_type": "code",
   "execution_count": 34,
   "id": "ef82d0e6",
   "metadata": {},
   "outputs": [
    {
     "name": "stdout",
     "output_type": "stream",
     "text": [
      "grep: demofile.txt: No such file or directory\n",
      "\n",
      "\n",
      "grep: demofile.txt: No such file or directory\n",
      "       0\n"
     ]
    }
   ],
   "source": [
    "\"\"\" how would you count the number of times the word 'more' \n",
    "appears in the text and the number of lines containing it? \n",
    "\"\"\"\n",
    "!grep -i 'more' demofile.txt\n",
    "!echo \"\\n\"\n",
    "!grep -i 'more' demofile.txt | wc -l"
   ]
  },
  {
   "cell_type": "markdown",
   "id": "bbf66aba",
   "metadata": {},
   "source": [
    "<hr />\n",
    "<div>\n",
    "    <p>\n",
    "        <img src=\"images/BreakoutIcon.png\" style=\"float:left; padding:10px; width:50px;\"/>\n",
    "        <span style=\"color: #3B7EA1;font-size:18px;\">\n",
    "\t\tBreakout Room Activity\n",
    "\t\t</span>\n",
    "    <p style=\"color:black; font-size: 14px;\">[link to activity]\n",
    "    </p>\n",
    "</div> "
   ]
  },
  {
   "cell_type": "markdown",
   "id": "0cc43683",
   "metadata": {},
   "source": [
    "<hr />\n",
    "<div style=\"font-size:36; background-color: #003262; color:white; padding:10px; border-radius:6px;\">End of week 1</div>"
   ]
  },
  {
   "cell_type": "markdown",
   "id": "f4f2067f",
   "metadata": {},
   "source": [
    "<hr />\n",
    "<h2>Slack Channels</h2>\n",
    "<p>Feel free to create your own section channel.</p>\n",
    "<p>The general slack is for everyone.</p>\n",
    "<p>Free to join any office hours.</p>\n",
    "<p>Rely on the TAs - they're hourly and may get paid more!</p>"
   ]
  },
  {
   "cell_type": "markdown",
   "id": "0224d4ae",
   "metadata": {},
   "source": [
    "<hr />\n",
    "<div>\n",
    "    <p>\n",
    "        <img src=\"images/AdvancedIcon.png\" style=\"float:left; padding:10px; width:50px;\"/>\n",
    "        <span style=\"color: #3B7EA1;font-size:18px;\">\n",
    "\t\tOptional Advanced Materials\n",
    "\t\t</span>\n",
    "    <ul>\n",
    "    <li>Operating Systems and Applications</li>\n",
    "        <li>Basic Computer</li>\n",
    "    <li>Client/Server Architecture</li>\n",
    "    </ul>\n",
    "</div> "
   ]
  },
  {
   "cell_type": "markdown",
   "id": "f3f2b0ec",
   "metadata": {},
   "source": [
    "<hr />\n",
    "<p>Modularization and abstraction are common in computing - leads to the idea of segregating work (modules) and the idea of the API and OSI Model of computing.</p>"
   ]
  },
  {
   "cell_type": "markdown",
   "id": "83aa3757",
   "metadata": {},
   "source": [
    "<hr />\n",
    "<img src=\"images/operatingSystems.jpg\"/>"
   ]
  },
  {
   "cell_type": "markdown",
   "id": "08726cb5",
   "metadata": {},
   "source": [
    "<hr />\n",
    "<p>Idea of the closeness of our coding to the architecture; notice the idea of input/output.</p>\n",
    "<p>Python doesn't use pointers (variables to memory locations) but does this work for us.\n",
    "</p>"
   ]
  },
  {
   "cell_type": "markdown",
   "id": "6dd9f356",
   "metadata": {},
   "source": [
    "<hr />Basic Computer<br />\n",
    "<img style=\"width:70%;\" src=\"images/ABasicComputer.svg.png\"/>"
   ]
  },
  {
   "cell_type": "markdown",
   "id": "998b585b",
   "metadata": {},
   "source": [
    "<hr />\n",
    "<p>Client/Server Architecture - notice the development from single computer, to computer-to-computer (peer) computing to variety of technologies for communication between them, to ultimately larger, more distributed computing services.</p>"
   ]
  },
  {
   "cell_type": "markdown",
   "id": "d85f8263",
   "metadata": {},
   "source": [
    "<hr />Client Server Architecture<br />\n",
    "<img src=\"images/clientserver.jpg\"/>"
   ]
  },
  {
   "cell_type": "code",
   "execution_count": null,
   "id": "74711c36",
   "metadata": {},
   "outputs": [],
   "source": []
  }
 ],
 "metadata": {
  "kernelspec": {
   "display_name": "Python 3 (ipykernel)",
   "language": "python",
   "name": "python3"
  },
  "language_info": {
   "codemirror_mode": {
    "name": "ipython",
    "version": 3
   },
   "file_extension": ".py",
   "mimetype": "text/x-python",
   "name": "python",
   "nbconvert_exporter": "python",
   "pygments_lexer": "ipython3",
   "version": "3.11.4"
  }
 },
 "nbformat": 4,
 "nbformat_minor": 5
}
